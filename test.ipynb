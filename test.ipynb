{
 "cells": [
  {
   "cell_type": "code",
   "execution_count": 1,
   "metadata": {},
   "outputs": [],
   "source": [
    "from test.searcher import find_covered_files, get_extension"
   ]
  },
  {
   "cell_type": "code",
   "execution_count": 2,
   "metadata": {},
   "outputs": [],
   "source": [
    "covered = find_covered_files(\"coverage.xml\")"
   ]
  },
  {
   "cell_type": "code",
   "execution_count": 3,
   "metadata": {},
   "outputs": [],
   "source": [
    "import os"
   ]
  },
  {
   "cell_type": "code",
   "execution_count": 4,
   "metadata": {},
   "outputs": [
    {
     "name": "stdout",
     "output_type": "stream",
     "text": [
      "File ./src/nn/base/cross.py is not covered\n",
      "File ./src/nn/base/embedding.py is not covered\n",
      "File ./src/nn/base/phm.py is not covered\n",
      "File ./src/nn/base/transformer.py is not covered\n"
     ]
    }
   ],
   "source": [
    "not_covered = []\n",
    "source_dir = \"src\"\n",
    "targets = set([\"py\"])\n",
    "for path, _, files in os.walk(f\"./{source_dir}\"):\n",
    "    if files:\n",
    "        for f in files:\n",
    "            ext = get_extension(f)\n",
    "            if ext in targets:\n",
    "                full_path = os.path.join(path, f)\n",
    "                if full_path not in covered:\n",
    "                    print(f\"File {full_path} is not covered\")\n",
    "                    not_covered.append(full_path)"
   ]
  },
  {
   "cell_type": "code",
   "execution_count": 5,
   "metadata": {},
   "outputs": [
    {
     "data": {
      "text/plain": [
       "{'./src/common/models/args_info.py',\n",
       " './src/common/models/dataloader_type.py',\n",
       " './src/common/models/param_level.py',\n",
       " './src/common/models/verification.py',\n",
       " './src/common/services/verification.py',\n",
       " './src/datasets/base/processor.py',\n",
       " './src/datasets/services/tiny_shakespeare.py',\n",
       " './src/datasets/utils/masking.py',\n",
       " './src/tokenizers/models/info.py',\n",
       " './src/tokenizers/services/available_tokenizers.py',\n",
       " './src/tokenizers/services/gpt2.py',\n",
       " './test/common/services/verification_test.py',\n",
       " './test/datasets/base/processor_test.py',\n",
       " './test/datasets/services/tiny_shakespeare_test.py',\n",
       " './test/datasets/utils/masking_test.py',\n",
       " './test/tokenizers/models/info_test.py',\n",
       " './test/tokenizers/services/available_tokenizers_test.py'}"
      ]
     },
     "execution_count": 5,
     "metadata": {},
     "output_type": "execute_result"
    }
   ],
   "source": [
    "covered"
   ]
  },
  {
   "cell_type": "code",
   "execution_count": null,
   "metadata": {},
   "outputs": [],
   "source": []
  }
 ],
 "metadata": {
  "kernelspec": {
   "display_name": ".venv",
   "language": "python",
   "name": "python3"
  },
  "language_info": {
   "codemirror_mode": {
    "name": "ipython",
    "version": 3
   },
   "file_extension": ".py",
   "mimetype": "text/x-python",
   "name": "python",
   "nbconvert_exporter": "python",
   "pygments_lexer": "ipython3",
   "version": "3.11.7"
  }
 },
 "nbformat": 4,
 "nbformat_minor": 2
}
