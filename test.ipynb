{
 "cells": [
  {
   "cell_type": "code",
   "execution_count": 1,
   "metadata": {},
   "outputs": [],
   "source": [
    "import xml"
   ]
  },
  {
   "cell_type": "code",
   "execution_count": 2,
   "metadata": {},
   "outputs": [],
   "source": [
    "file = \"coverage.xml\""
   ]
  },
  {
   "cell_type": "code",
   "execution_count": 4,
   "metadata": {},
   "outputs": [],
   "source": [
    "data = xml.dom.minidom.parse(file)"
   ]
  },
  {
   "cell_type": "code",
   "execution_count": 5,
   "metadata": {},
   "outputs": [
    {
     "data": {
      "text/plain": [
       "<xml.dom.minidom.Document at 0x7f0147279bb0>"
      ]
     },
     "execution_count": 5,
     "metadata": {},
     "output_type": "execute_result"
    }
   ],
   "source": [
    "data"
   ]
  },
  {
   "cell_type": "code",
   "execution_count": 6,
   "metadata": {},
   "outputs": [],
   "source": [
    "classes = data.getElementsByTagName(\"class\")"
   ]
  },
  {
   "cell_type": "code",
   "execution_count": 8,
   "metadata": {},
   "outputs": [],
   "source": [
    "filenames = [\n",
    "    c.getAttribute(\"filename\") for c in classes\n",
    "]"
   ]
  },
  {
   "cell_type": "code",
   "execution_count": 9,
   "metadata": {},
   "outputs": [
    {
     "data": {
      "text/plain": [
       "['src/common/models/args_info.py',\n",
       " 'src/common/models/dataloader_type.py',\n",
       " 'src/common/models/param_level.py',\n",
       " 'src/common/models/verification.py',\n",
       " 'src/common/services/verification.py',\n",
       " 'src/datasets/base/processor.py',\n",
       " 'src/datasets/services/tiny_shakespeare.py',\n",
       " 'src/datasets/utils/masking.py',\n",
       " 'src/tokenizers/models/info.py',\n",
       " 'src/tokenizers/services/available_tokenizers.py',\n",
       " 'src/tokenizers/services/gpt2.py',\n",
       " 'test/common/services/verification_test.py',\n",
       " 'test/datasets/base/processor_test.py',\n",
       " 'test/datasets/services/tiny_shakespeare_test.py',\n",
       " 'test/datasets/utils/masking_test.py',\n",
       " 'test/tokenizers/services/available_tokenizers_test.py']"
      ]
     },
     "execution_count": 9,
     "metadata": {},
     "output_type": "execute_result"
    }
   ],
   "source": [
    "filenames"
   ]
  },
  {
   "cell_type": "code",
   "execution_count": null,
   "metadata": {},
   "outputs": [],
   "source": []
  }
 ],
 "metadata": {
  "kernelspec": {
   "display_name": ".venv",
   "language": "python",
   "name": "python3"
  },
  "language_info": {
   "codemirror_mode": {
    "name": "ipython",
    "version": 3
   },
   "file_extension": ".py",
   "mimetype": "text/x-python",
   "name": "python",
   "nbconvert_exporter": "python",
   "pygments_lexer": "ipython3",
   "version": "3.11.7"
  }
 },
 "nbformat": 4,
 "nbformat_minor": 2
}
