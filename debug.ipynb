{
 "cells": [
  {
   "cell_type": "code",
   "execution_count": 1,
   "metadata": {},
   "outputs": [
    {
     "name": "stderr",
     "output_type": "stream",
     "text": [
      "g:\\Projects\\Visual Studio Code\\LM\\.venv\\lib\\site-packages\\transformers\\utils\\hub.py:124: FutureWarning: Using `TRANSFORMERS_CACHE` is deprecated and will be removed in v5 of Transformers. Use `HF_HOME` instead.\n",
      "  warnings.warn(\n"
     ]
    }
   ],
   "source": [
    "from src.nn.architectures.dag_encoder_decoder import EncoderDecoderDAG\n",
    "import torch\n",
    "from src.nn.services.decoding_strat import GreedyDAGStrategy"
   ]
  },
  {
   "cell_type": "code",
   "execution_count": 2,
   "metadata": {},
   "outputs": [],
   "source": [
    "embed_dim = 16\n",
    "num_heads = 8\n",
    "factor = -1\n",
    "vocab_size = 5\n",
    "max_len_enc = 10\n",
    "max_len_dec = 40\n",
    "num_enc_layers = 2\n",
    "num_dec_layers = 2\n",
    "dag_heads = 8\n",
    "dag_phm_factor = -1\n",
    "dag_lm_head_factor = -1"
   ]
  },
  {
   "cell_type": "code",
   "execution_count": 3,
   "metadata": {},
   "outputs": [],
   "source": [
    "model = EncoderDecoderDAG(\n",
    "    embed_dim=embed_dim,\n",
    "    num_heads=num_heads,\n",
    "    factor=factor,\n",
    "    vocab_size=vocab_size,\n",
    "    max_len_enc=max_len_enc,\n",
    "    max_len_dec=max_len_dec,\n",
    "    num_enc_layers=num_enc_layers,\n",
    "    num_dec_layers=num_dec_layers,\n",
    "    dag_heads=dag_heads,\n",
    "    dag_phm_factor=dag_phm_factor,\n",
    "    dag_lm_head_factor=dag_lm_head_factor\n",
    ")"
   ]
  },
  {
   "cell_type": "code",
   "execution_count": 4,
   "metadata": {},
   "outputs": [],
   "source": [
    "from src.datasets.utils.masking import self_attn_pad_mask, cross_attn_pad_mask, combine_masks, process_tokens"
   ]
  },
  {
   "cell_type": "code",
   "execution_count": 5,
   "metadata": {},
   "outputs": [],
   "source": [
    "encoder_input = torch.tensor([\n",
    "    [1, 1, 2, 0, 0],\n",
    "    [1, 2, 3, 4, 0]\n",
    "])"
   ]
  },
  {
   "cell_type": "code",
   "execution_count": 6,
   "metadata": {},
   "outputs": [],
   "source": [
    "len_enc_not_pad, is_enc_not_pad = process_tokens(encoder_input, pad_idx=0)"
   ]
  },
  {
   "cell_type": "code",
   "execution_count": 7,
   "metadata": {},
   "outputs": [],
   "source": [
    "enc_pad_mask = self_attn_pad_mask(is_enc_not_pad)"
   ]
  },
  {
   "cell_type": "code",
   "execution_count": 8,
   "metadata": {},
   "outputs": [],
   "source": [
    "decoder_input = torch.tensor([\n",
    "    [0, 1, 2, 3, 4, 5, 6, 7, 8, 9, -1, -1],\n",
    "    [0, 1, 2, 3, 4, 5, 6, 7, 8, 9, 10, 11]\n",
    "])"
   ]
  },
  {
   "cell_type": "code",
   "execution_count": 9,
   "metadata": {},
   "outputs": [],
   "source": [
    "vertex_lens = torch.tensor([10, 12])"
   ]
  },
  {
   "cell_type": "code",
   "execution_count": 10,
   "metadata": {},
   "outputs": [],
   "source": [
    "len_dec_not_pad, is_dec_not_pad = process_tokens(decoder_input, pad_idx=-1)"
   ]
  },
  {
   "cell_type": "code",
   "execution_count": 11,
   "metadata": {},
   "outputs": [],
   "source": [
    "decoder_input[decoder_input == -1] = 0"
   ]
  },
  {
   "cell_type": "code",
   "execution_count": 12,
   "metadata": {},
   "outputs": [],
   "source": [
    "dec_pad_mask = self_attn_pad_mask(is_dec_not_pad)"
   ]
  },
  {
   "cell_type": "code",
   "execution_count": 13,
   "metadata": {},
   "outputs": [],
   "source": [
    "env_kv_dec_q_mask = cross_attn_pad_mask(is_enc_not_pad, is_dec_not_pad)"
   ]
  },
  {
   "cell_type": "code",
   "execution_count": 14,
   "metadata": {},
   "outputs": [],
   "source": [
    "transitions, emissions = model(\n",
    "    encoder_input,\n",
    "    enc_pad_mask,\n",
    "    decoder_input,\n",
    "    dec_pad_mask,\n",
    "    env_kv_dec_q_mask,\n",
    "    vertex_lens\n",
    ")"
   ]
  },
  {
   "cell_type": "code",
   "execution_count": 15,
   "metadata": {},
   "outputs": [
    {
     "data": {
      "text/plain": [
       "torch.Size([2, 12, 12])"
      ]
     },
     "execution_count": 15,
     "metadata": {},
     "output_type": "execute_result"
    }
   ],
   "source": [
    "transitions.shape"
   ]
  },
  {
   "cell_type": "code",
   "execution_count": 16,
   "metadata": {},
   "outputs": [
    {
     "data": {
      "text/plain": [
       "torch.Size([2, 12, 5])"
      ]
     },
     "execution_count": 16,
     "metadata": {},
     "output_type": "execute_result"
    }
   ],
   "source": [
    "emissions.shape"
   ]
  },
  {
   "cell_type": "code",
   "execution_count": 17,
   "metadata": {},
   "outputs": [],
   "source": [
    "from unittest.mock import MagicMock"
   ]
  },
  {
   "cell_type": "code",
   "execution_count": 18,
   "metadata": {},
   "outputs": [],
   "source": [
    "info = MagicMock()\n",
    "info.pad_idx = -1"
   ]
  },
  {
   "cell_type": "code",
   "execution_count": 19,
   "metadata": {},
   "outputs": [],
   "source": [
    "greedy = GreedyDAGStrategy(info=info,device=\"cpu\")"
   ]
  },
  {
   "cell_type": "code",
   "execution_count": 20,
   "metadata": {},
   "outputs": [
    {
     "name": "stderr",
     "output_type": "stream",
     "text": [
      "g:\\Projects\\Visual Studio Code\\LM\\.venv\\lib\\site-packages\\torch\\nested\\__init__.py:166: UserWarning: The PyTorch API of nested tensors is in prototype stage and will change in the near future. (Triggered internally at ..\\aten\\src\\ATen\\NestedTensorImpl.cpp:179.)\n",
      "  return _nested.nested_tensor(\n"
     ]
    }
   ],
   "source": [
    "output = greedy.decode(transitions, emissions)"
   ]
  },
  {
   "cell_type": "code",
   "execution_count": 21,
   "metadata": {},
   "outputs": [
    {
     "data": {
      "text/plain": [
       "tensor([[ 2,  2,  2, -1, -1],\n",
       "        [ 2,  2,  2,  2,  2]])"
      ]
     },
     "execution_count": 21,
     "metadata": {},
     "output_type": "execute_result"
    }
   ],
   "source": [
    "output"
   ]
  },
  {
   "cell_type": "code",
   "execution_count": null,
   "metadata": {},
   "outputs": [],
   "source": []
  }
 ],
 "metadata": {
  "kernelspec": {
   "display_name": ".venv",
   "language": "python",
   "name": "python3"
  },
  "language_info": {
   "codemirror_mode": {
    "name": "ipython",
    "version": 3
   },
   "file_extension": ".py",
   "mimetype": "text/x-python",
   "name": "python",
   "nbconvert_exporter": "python",
   "pygments_lexer": "ipython3",
   "version": "3.10.6"
  }
 },
 "nbformat": 4,
 "nbformat_minor": 2
}
